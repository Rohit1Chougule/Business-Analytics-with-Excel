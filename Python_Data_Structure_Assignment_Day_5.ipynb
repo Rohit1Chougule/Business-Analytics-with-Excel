{
  "cells": [
    {
      "cell_type": "markdown",
      "metadata": {
        "id": "view-in-github",
        "colab_type": "text"
      },
      "source": [
        "<a href=\"https://colab.research.google.com/github/Rohit1Chougule/Business-Analytics-with-Excel/blob/main/Python_Data_Structure_Assignment_Day_5.ipynb\" target=\"_parent\"><img src=\"https://colab.research.google.com/assets/colab-badge.svg\" alt=\"Open In Colab\"/></a>"
      ]
    },
    {
      "cell_type": "markdown",
      "metadata": {
        "id": "jGxqF4aIjNSq"
      },
      "source": [
        "<a id='1'></a><center> <h3 style=\"background-color:orange; color:white\" ><br>Python Data Structures<br></h3>"
      ],
      "id": "jGxqF4aIjNSq"
    },
    {
      "cell_type": "markdown",
      "metadata": {
        "id": "T5_qSFE_WxOc"
      },
      "source": [
        "# `Types of Data Structures:`\n",
        "* `List` | `Tuple`\n",
        "* `Set` | `Dictionary`\n",
        "* `str` | `int` | `float`\n",
        "* `Bool`| `byte` | `Frozenset`"
      ],
      "id": "T5_qSFE_WxOc"
    },
    {
      "cell_type": "markdown",
      "metadata": {
        "id": "ZGgscFtuWxOd"
      },
      "source": [
        "|Data Structures type|Mutable|Comments|Indexing|Ordered|Duplicacy|\n",
        "|----|----|----|----|----|----|\n",
        "tuple ()|immutable|immutable version of list| possible|yes |allowed |\n",
        "list []|mutable|-|possible |yes | allowed |\n",
        "set {}|mutable| -|not |no |not |\n",
        "dict {key:value}|mutable|-|possible |no |not  |"
      ],
      "id": "ZGgscFtuWxOd"
    },
    {
      "cell_type": "markdown",
      "metadata": {
        "id": "ORcxj52UWxOe"
      },
      "source": [
        "💫 `immutable` => `can't be changed` <br>\n",
        "💫 `mutable` => `can be changed`"
      ],
      "id": "ORcxj52UWxOe"
    },
    {
      "cell_type": "code",
      "execution_count": null,
      "metadata": {
        "id": "LdmQGQ2CWxOg"
      },
      "outputs": [],
      "source": [],
      "id": "LdmQGQ2CWxOg"
    },
    {
      "cell_type": "markdown",
      "metadata": {
        "id": "Tyavi31ZjNSw"
      },
      "source": [
        "## Lists\n",
        "\n"
      ],
      "id": "Tyavi31ZjNSw"
    },
    {
      "cell_type": "markdown",
      "metadata": {
        "id": "tkDQdRdUjNSy"
      },
      "source": [
        "### Create an empty list with the name ‘a’, print the value of a and type(a).\n"
      ],
      "id": "tkDQdRdUjNSy"
    },
    {
      "cell_type": "code",
      "execution_count": null,
      "metadata": {
        "id": "a6i4yNGvjNSz"
      },
      "outputs": [],
      "source": [
        "# create empty list, name it 'a'\n",
        "a=[]\n",
        "\n"
      ],
      "id": "a6i4yNGvjNSz"
    },
    {
      "cell_type": "code",
      "execution_count": null,
      "metadata": {
        "id": "M8FMNQEgjNS0",
        "outputId": "b9bf8a57-f272-4679-ebb1-26449f0f77a7",
        "colab": {
          "base_uri": "https://localhost:8080/"
        }
      },
      "outputs": [
        {
          "output_type": "stream",
          "name": "stdout",
          "text": [
            "[]\n"
          ]
        }
      ],
      "source": [
        "# print the value of a\n",
        "print(a)\n"
      ],
      "id": "M8FMNQEgjNS0"
    },
    {
      "cell_type": "code",
      "execution_count": null,
      "metadata": {
        "id": "Jfc9sg1vjNS1",
        "outputId": "cb04d29c-041e-4c87-c0f8-51347e746a90",
        "colab": {
          "base_uri": "https://localhost:8080/"
        }
      },
      "outputs": [
        {
          "output_type": "stream",
          "name": "stdout",
          "text": [
            "<class 'list'>\n"
          ]
        }
      ],
      "source": [
        "# print the type of a\n",
        "print(type(a))"
      ],
      "id": "Jfc9sg1vjNS1"
    },
    {
      "cell_type": "markdown",
      "metadata": {
        "id": "UNpN9_w4jNS1"
      },
      "source": [
        "### Create a list , languages = ['R','Python', 'SAS', 'Scala', 42],"
      ],
      "id": "UNpN9_w4jNS1"
    },
    {
      "cell_type": "code",
      "execution_count": null,
      "metadata": {
        "id": "x-TG-vc5jNS2"
      },
      "outputs": [],
      "source": [
        "languages = ['R','Python','SAS','Scala','42']"
      ],
      "id": "x-TG-vc5jNS2"
    },
    {
      "cell_type": "markdown",
      "metadata": {
        "id": "JDSIK8TbjNS3"
      },
      "source": [
        "Print the number of elements in the list"
      ],
      "id": "JDSIK8TbjNS3"
    },
    {
      "cell_type": "code",
      "execution_count": null,
      "metadata": {
        "id": "C4lBMaM8jNS3",
        "outputId": "7a913ac2-f0d6-468a-a9fd-953184f68fbe",
        "colab": {
          "base_uri": "https://localhost:8080/"
        }
      },
      "outputs": [
        {
          "output_type": "stream",
          "name": "stdout",
          "text": [
            "5\n"
          ]
        }
      ],
      "source": [
        "print(len(languages))"
      ],
      "id": "C4lBMaM8jNS3"
    },
    {
      "cell_type": "markdown",
      "metadata": {
        "id": "EyzO_pcnjNS3"
      },
      "source": [
        "Using for loop iterate and print all the elements in the list"
      ],
      "id": "EyzO_pcnjNS3"
    },
    {
      "cell_type": "code",
      "execution_count": null,
      "metadata": {
        "id": "TyM54ydsjNS4",
        "outputId": "94a072db-7e29-4c30-f4ae-16c32780fbe8",
        "colab": {
          "base_uri": "https://localhost:8080/"
        }
      },
      "outputs": [
        {
          "output_type": "stream",
          "name": "stdout",
          "text": [
            "R\n",
            "Python\n",
            "SAS\n",
            "Scala\n",
            "42\n"
          ]
        }
      ],
      "source": [
        "for i in languages:\n",
        "    print(i)\n",
        "\n"
      ],
      "id": "TyM54ydsjNS4"
    },
    {
      "cell_type": "markdown",
      "metadata": {
        "id": "eC1fqz9LjNS4"
      },
      "source": [
        "Select the second item, 'Python' and store it in a new variable named 'temp'"
      ],
      "id": "eC1fqz9LjNS4"
    },
    {
      "cell_type": "code",
      "execution_count": null,
      "metadata": {
        "id": "KY0KhRlOjNS4"
      },
      "outputs": [],
      "source": [
        "temp = languages[1]"
      ],
      "id": "KY0KhRlOjNS4"
    },
    {
      "cell_type": "markdown",
      "metadata": {
        "id": "breORMa_jNS4"
      },
      "source": [
        "Print the value of temp and type(temp)"
      ],
      "id": "breORMa_jNS4"
    },
    {
      "cell_type": "code",
      "execution_count": null,
      "metadata": {
        "id": "MbvX2aIgjNS5",
        "outputId": "c5e2dcdc-4877-4bda-9ebb-a6006d5b62b7",
        "colab": {
          "base_uri": "https://localhost:8080/"
        }
      },
      "outputs": [
        {
          "output_type": "stream",
          "name": "stdout",
          "text": [
            "Python\n",
            "<class 'str'>\n"
          ]
        }
      ],
      "source": [
        "\n",
        "print(temp)\n",
        "print(type(temp))\n"
      ],
      "id": "MbvX2aIgjNS5"
    },
    {
      "cell_type": "markdown",
      "metadata": {
        "id": "I4MrKlAUjNS5"
      },
      "source": [
        "Append the element 'Java' in the list"
      ],
      "id": "I4MrKlAUjNS5"
    },
    {
      "cell_type": "code",
      "execution_count": null,
      "metadata": {
        "id": "rOtqZY6PjNS6"
      },
      "outputs": [],
      "source": [
        "languages.append('Java')\n"
      ],
      "id": "rOtqZY6PjNS6"
    },
    {
      "cell_type": "markdown",
      "metadata": {
        "id": "ksEn8qvFjNS6"
      },
      "source": [
        "Remove the element 42 from the list and print the list"
      ],
      "id": "ksEn8qvFjNS6"
    },
    {
      "cell_type": "code",
      "execution_count": null,
      "metadata": {
        "id": "Lxuzfc1bjNS6",
        "outputId": "336e5c97-5f5c-45b7-94ad-092501913093",
        "colab": {
          "base_uri": "https://localhost:8080/"
        }
      },
      "outputs": [
        {
          "output_type": "stream",
          "name": "stdout",
          "text": [
            "['R', 'Python', 'SAS', 'Scala', 'Java']\n"
          ]
        }
      ],
      "source": [
        "languages.remove('42')\n",
        "print(languages)\n",
        "\n"
      ],
      "id": "Lxuzfc1bjNS6"
    },
    {
      "cell_type": "markdown",
      "metadata": {
        "id": "19MjI0w6jNS6"
      },
      "source": [
        "### Create a list, colors = [‘Red’, ‘Blue’, ‘White’]"
      ],
      "id": "19MjI0w6jNS6"
    },
    {
      "cell_type": "code",
      "execution_count": null,
      "metadata": {
        "id": "Z1lMzdbWjNS7"
      },
      "outputs": [],
      "source": [
        "colors = ['Red','Blue','White']"
      ],
      "id": "Z1lMzdbWjNS7"
    },
    {
      "cell_type": "markdown",
      "metadata": {
        "id": "VAqLj5R3jNS7"
      },
      "source": [
        "Append the element 'Black' to colors"
      ],
      "id": "VAqLj5R3jNS7"
    },
    {
      "cell_type": "code",
      "execution_count": null,
      "metadata": {
        "id": "gvb5iC7ljNS7"
      },
      "outputs": [],
      "source": [
        "colors.append('Black')\n",
        "\n"
      ],
      "id": "gvb5iC7ljNS7"
    },
    {
      "cell_type": "markdown",
      "metadata": {
        "id": "MFWIzVcvjNS7"
      },
      "source": [
        "Append the color 'Orange' to second position (index=1) and print the list"
      ],
      "id": "MFWIzVcvjNS7"
    },
    {
      "cell_type": "code",
      "execution_count": null,
      "metadata": {
        "id": "Fb6YZDSNjNS8",
        "colab": {
          "base_uri": "https://localhost:8080/"
        },
        "outputId": "11b99cb7-0c1d-420c-8cd9-1ada396fb818"
      },
      "outputs": [
        {
          "output_type": "stream",
          "name": "stdout",
          "text": [
            "['Red', 'Orange', 'Blue', 'White', 'Black']\n"
          ]
        }
      ],
      "source": [
        "colors.insert(1,'Orange')\n",
        "print(colors)\n",
        "\n"
      ],
      "id": "Fb6YZDSNjNS8"
    },
    {
      "cell_type": "markdown",
      "metadata": {
        "id": "8DWB76AOjNS8"
      },
      "source": [
        "Print the list\n"
      ],
      "id": "8DWB76AOjNS8"
    },
    {
      "cell_type": "code",
      "execution_count": null,
      "metadata": {
        "id": "0ldkGCozjNS8",
        "outputId": "f07d385f-62cf-462e-b644-a62d5260e173",
        "colab": {
          "base_uri": "https://localhost:8080/"
        }
      },
      "outputs": [
        {
          "output_type": "stream",
          "name": "stdout",
          "text": [
            "['Red', 'Orange', 'Blue', 'White', 'Black']\n"
          ]
        }
      ],
      "source": [
        "print(colors)"
      ],
      "id": "0ldkGCozjNS8"
    },
    {
      "cell_type": "markdown",
      "metadata": {
        "id": "WfFfxvLKjNS8"
      },
      "source": [
        "Create another list, colors2 = [‘Grey’, ‘Sky Blue’]"
      ],
      "id": "WfFfxvLKjNS8"
    },
    {
      "cell_type": "code",
      "execution_count": null,
      "metadata": {
        "id": "onZEiwdUjNS8"
      },
      "outputs": [],
      "source": [
        "colors2 = ['Grey','Sky Blue']"
      ],
      "id": "onZEiwdUjNS8"
    },
    {
      "cell_type": "markdown",
      "metadata": {
        "id": "MrNQk6uKjNS8"
      },
      "source": [
        "Add the elements of colors2 to colors using extend function in the list"
      ],
      "id": "MrNQk6uKjNS8"
    },
    {
      "cell_type": "code",
      "execution_count": null,
      "metadata": {
        "id": "Hr1Eu88OjNS9"
      },
      "outputs": [],
      "source": [
        "colors.extend(colors2)\n"
      ],
      "id": "Hr1Eu88OjNS9"
    },
    {
      "cell_type": "markdown",
      "metadata": {
        "id": "u0KDeU20jNS9"
      },
      "source": [
        "Print len of colors and its elements"
      ],
      "id": "u0KDeU20jNS9"
    },
    {
      "cell_type": "code",
      "execution_count": null,
      "metadata": {
        "id": "bnBmsCg2jNS9",
        "outputId": "b67e54f1-42b5-420d-c5d5-cb1d3793fbe5",
        "colab": {
          "base_uri": "https://localhost:8080/"
        }
      },
      "outputs": [
        {
          "output_type": "stream",
          "name": "stdout",
          "text": [
            "7 ['Red', 'Orange', 'Blue', 'White', 'Black', 'Grey', 'Sky Blue']\n"
          ]
        }
      ],
      "source": [
        "print(len(colors),colors)\n",
        "\n"
      ],
      "id": "bnBmsCg2jNS9"
    },
    {
      "cell_type": "markdown",
      "metadata": {
        "id": "vJ7YqokSjNS9"
      },
      "source": [
        "Sort the list and print it."
      ],
      "id": "vJ7YqokSjNS9"
    },
    {
      "cell_type": "code",
      "execution_count": null,
      "metadata": {
        "id": "X14C-1PtjNS9",
        "outputId": "803afd9a-9bba-40f4-f7f1-a461e6b6ee5a",
        "colab": {
          "base_uri": "https://localhost:8080/"
        }
      },
      "outputs": [
        {
          "output_type": "stream",
          "name": "stdout",
          "text": [
            "['Black', 'Blue', 'Grey', 'Orange', 'Red', 'Sky Blue', 'White']\n"
          ]
        }
      ],
      "source": [
        "colors.sort()\n",
        "print(colors)\n",
        "\n"
      ],
      "id": "X14C-1PtjNS9"
    },
    {
      "cell_type": "markdown",
      "metadata": {
        "id": "MdN5B9F9jNS-"
      },
      "source": [
        "### Create a string, sent = ‘Coronavirus Caused Lockdowns Around The World.”"
      ],
      "id": "MdN5B9F9jNS-"
    },
    {
      "cell_type": "code",
      "execution_count": null,
      "metadata": {
        "id": "j4JUR085jNS-"
      },
      "outputs": [],
      "source": [
        "sent = 'Coronaviruss Caused Lockdowns Around THe World.'"
      ],
      "id": "j4JUR085jNS-"
    },
    {
      "cell_type": "markdown",
      "metadata": {
        "id": "rcn18drOjNS-"
      },
      "source": [
        "Use split function to convert the string into a list of words and save it in variable words and print the same"
      ],
      "id": "rcn18drOjNS-"
    },
    {
      "cell_type": "code",
      "execution_count": null,
      "metadata": {
        "id": "fjiKSboajNS-",
        "outputId": "86e941eb-5fe4-4097-d178-c7bbf65c8d21",
        "colab": {
          "base_uri": "https://localhost:8080/"
        }
      },
      "outputs": [
        {
          "output_type": "stream",
          "name": "stdout",
          "text": [
            "['Coronaviruss', 'Caused', 'Lockdowns', 'Around', 'THe', 'World.']\n"
          ]
        }
      ],
      "source": [
        "words = sent.split()\n",
        "print(words)\n",
        "\n"
      ],
      "id": "fjiKSboajNS-"
    },
    {
      "cell_type": "markdown",
      "metadata": {
        "id": "rowxhN26jNS_"
      },
      "source": [
        "Convert each word in the list to lower case and store it in variable words_lower.\n",
        "Print words_lower"
      ],
      "id": "rowxhN26jNS_"
    },
    {
      "cell_type": "code",
      "execution_count": null,
      "metadata": {
        "id": "LuzAECOVjNS_",
        "outputId": "4ed6ee73-b114-4726-c784-84d6250f3920",
        "colab": {
          "base_uri": "https://localhost:8080/"
        }
      },
      "outputs": [
        {
          "output_type": "stream",
          "name": "stdout",
          "text": [
            "['coronaviruss', 'caused', 'lockdowns', 'around', 'the', 'world.']\n"
          ]
        }
      ],
      "source": [
        "\n",
        "words_lower = [word.lower() for word in words]\n",
        "print(words_lower)\n"
      ],
      "id": "LuzAECOVjNS_"
    },
    {
      "cell_type": "markdown",
      "metadata": {
        "id": "zznwP-l9jNS_"
      },
      "source": [
        "Check whether ‘country’ is in the list"
      ],
      "id": "zznwP-l9jNS_"
    },
    {
      "cell_type": "code",
      "execution_count": null,
      "metadata": {
        "id": "y-U1felnjNS_",
        "outputId": "51baf7d4-2eb4-49bf-e106-6de0b2b26ff8",
        "colab": {
          "base_uri": "https://localhost:8080/"
        }
      },
      "outputs": [
        {
          "output_type": "stream",
          "name": "stdout",
          "text": [
            "False\n"
          ]
        }
      ],
      "source": [
        "is_country = 'country' in words_lower\n",
        "print(is_country)"
      ],
      "id": "y-U1felnjNS_"
    },
    {
      "cell_type": "markdown",
      "metadata": {
        "id": "AZMvSVKWjNS_"
      },
      "source": [
        "Remove the element ‘the’ from the list and print the list."
      ],
      "id": "AZMvSVKWjNS_"
    },
    {
      "cell_type": "code",
      "execution_count": null,
      "metadata": {
        "id": "bmDbpYd7jNS_",
        "outputId": "3790d489-e79d-45ad-a210-0495fa9fb2a1",
        "colab": {
          "base_uri": "https://localhost:8080/"
        }
      },
      "outputs": [
        {
          "output_type": "stream",
          "name": "stdout",
          "text": [
            "['coronaviruss', 'caused', 'lockdowns', 'around', 'world.']\n"
          ]
        }
      ],
      "source": [
        "words_lower.remove('the')\n",
        "print(words_lower)\n",
        "\n"
      ],
      "id": "bmDbpYd7jNS_"
    },
    {
      "cell_type": "markdown",
      "metadata": {
        "id": "int3gJc0jNS_"
      },
      "source": [
        "Select the first 4 words from the list words_lower using slicing and store them in a new variable x4"
      ],
      "id": "int3gJc0jNS_"
    },
    {
      "cell_type": "code",
      "execution_count": null,
      "metadata": {
        "id": "fXOJmYI1jNTA"
      },
      "outputs": [],
      "source": [
        "x4 = words_lower[:4]"
      ],
      "id": "fXOJmYI1jNTA"
    },
    {
      "cell_type": "code",
      "execution_count": null,
      "metadata": {
        "id": "2Kb_1V9HjNTA",
        "outputId": "58b6aca9-d8e7-4012-dabd-49239bbbd3d7",
        "colab": {
          "base_uri": "https://localhost:8080/"
        }
      },
      "outputs": [
        {
          "output_type": "stream",
          "name": "stdout",
          "text": [
            "['coronaviruss', 'caused', 'lockdowns', 'around']\n"
          ]
        }
      ],
      "source": [
        "# print x4\n",
        "print (x4)\n"
      ],
      "id": "2Kb_1V9HjNTA"
    },
    {
      "cell_type": "markdown",
      "metadata": {
        "id": "3HgP3nUmjNTA"
      },
      "source": [
        "Convert the list of elements to single string using join function and print it"
      ],
      "id": "3HgP3nUmjNTA"
    },
    {
      "cell_type": "code",
      "execution_count": null,
      "metadata": {
        "id": "hiXO7ekhjNTA",
        "outputId": "39208437-e85a-4d41-abd0-c62b643549ec",
        "colab": {
          "base_uri": "https://localhost:8080/"
        }
      },
      "outputs": [
        {
          "output_type": "stream",
          "name": "stdout",
          "text": [
            "coronaviruss caused lockdowns around\n"
          ]
        }
      ],
      "source": [
        "x4_str = ' '.join(x4)\n",
        "print(x4_str)\n"
      ],
      "id": "hiXO7ekhjNTA"
    },
    {
      "cell_type": "markdown",
      "metadata": {
        "id": "tW6We_kvjNTA"
      },
      "source": [
        "## Sets"
      ],
      "id": "tW6We_kvjNTA"
    },
    {
      "cell_type": "markdown",
      "metadata": {
        "id": "02qkte5xjNTA"
      },
      "source": [
        "### Create stud_grades = ['A','A','B','C','C','F']"
      ],
      "id": "02qkte5xjNTA"
    },
    {
      "cell_type": "code",
      "execution_count": null,
      "metadata": {
        "id": "M5P_qZaTjNTB"
      },
      "outputs": [],
      "source": [
        "stud_grades = ['A','A','B','C','C','F']"
      ],
      "id": "M5P_qZaTjNTB"
    },
    {
      "cell_type": "markdown",
      "metadata": {
        "id": "XazCnMcBjNTB"
      },
      "source": [
        "Print the len of stud_grades"
      ],
      "id": "XazCnMcBjNTB"
    },
    {
      "cell_type": "code",
      "execution_count": null,
      "metadata": {
        "id": "gMMJN-V5jNTB",
        "outputId": "89e3c4c7-430a-4e16-fc37-06dd666ddb32",
        "colab": {
          "base_uri": "https://localhost:8080/"
        }
      },
      "outputs": [
        {
          "output_type": "stream",
          "name": "stdout",
          "text": [
            "6\n"
          ]
        }
      ],
      "source": [
        "print(len(stud_grades))\n",
        "\n"
      ],
      "id": "gMMJN-V5jNTB"
    },
    {
      "cell_type": "markdown",
      "metadata": {
        "id": "ALm7hstGjNTB"
      },
      "source": [
        "Create a new variable, stud_grades_set = set(stud_grades)"
      ],
      "id": "ALm7hstGjNTB"
    },
    {
      "cell_type": "code",
      "execution_count": null,
      "metadata": {
        "id": "xtFAORp6WxPE"
      },
      "outputs": [],
      "source": [
        "stud_grades_set = set(stud_grades)"
      ],
      "id": "xtFAORp6WxPE"
    },
    {
      "cell_type": "markdown",
      "metadata": {
        "id": "JJESkQiJjNTB"
      },
      "source": [
        "Print stud_grades_set."
      ],
      "id": "JJESkQiJjNTB"
    },
    {
      "cell_type": "code",
      "execution_count": null,
      "metadata": {
        "id": "Q-daiiLPjNTB",
        "outputId": "840242f2-b7d1-4583-a7a3-7650ea2c563c",
        "colab": {
          "base_uri": "https://localhost:8080/"
        }
      },
      "outputs": [
        {
          "output_type": "stream",
          "name": "stdout",
          "text": [
            "{'C', 'A', 'F', 'B'}\n"
          ]
        }
      ],
      "source": [
        "print(stud_grades_set)\n",
        "\n"
      ],
      "id": "Q-daiiLPjNTB"
    },
    {
      "cell_type": "markdown",
      "metadata": {
        "id": "hNeCPwPOjNTC"
      },
      "source": [
        "print the type of stud_grades and stud_grades_set and print their corresponding elements. Try to understand the difference between them."
      ],
      "id": "hNeCPwPOjNTC"
    },
    {
      "cell_type": "code",
      "execution_count": null,
      "metadata": {
        "id": "g7cntC0ojNTC",
        "outputId": "8649f98b-78c7-4daa-9b96-2c8b9d4a620b",
        "colab": {
          "base_uri": "https://localhost:8080/"
        }
      },
      "outputs": [
        {
          "output_type": "stream",
          "name": "stdout",
          "text": [
            "<class 'list'> ['A', 'A', 'B', 'C', 'C', 'F']\n",
            "<class 'set'> {'C', 'A', 'F', 'B'}\n"
          ]
        }
      ],
      "source": [
        "print(type(stud_grades),stud_grades)\n",
        "print(type(stud_grades_set),stud_grades_set)\n",
        "\n",
        "\n"
      ],
      "id": "g7cntC0ojNTC"
    },
    {
      "cell_type": "markdown",
      "metadata": {
        "id": "WjzzJX8yjNTC"
      },
      "source": [
        "Add a new element ‘G’ to stud_grades_set"
      ],
      "id": "WjzzJX8yjNTC"
    },
    {
      "cell_type": "code",
      "execution_count": null,
      "metadata": {
        "id": "y80DVAlRjNTC",
        "colab": {
          "base_uri": "https://localhost:8080/"
        },
        "outputId": "c8d7f33a-775c-47ea-bb3e-282296248b5d"
      },
      "outputs": [
        {
          "output_type": "stream",
          "name": "stdout",
          "text": [
            "{'C', 'A', 'B', 'F', 'G'}\n"
          ]
        }
      ],
      "source": [
        "stud_grades_set.add('G')\n",
        "print(stud_grades_set)\n"
      ],
      "id": "y80DVAlRjNTC"
    },
    {
      "cell_type": "markdown",
      "metadata": {
        "id": "4TO9zhSJjNTC"
      },
      "source": [
        "Add element 'F' to stud_grades_set. and print it."
      ],
      "id": "4TO9zhSJjNTC"
    },
    {
      "cell_type": "code",
      "execution_count": null,
      "metadata": {
        "id": "Bh4tc1zCjNTC",
        "outputId": "0a1fceb2-2c3e-4f60-9ea7-2c4315732a10",
        "colab": {
          "base_uri": "https://localhost:8080/"
        }
      },
      "outputs": [
        {
          "output_type": "stream",
          "name": "stdout",
          "text": [
            "{'C', 'A', 'B', 'F', 'G'}\n"
          ]
        }
      ],
      "source": [
        "stud_grades_set.add('F')\n",
        "print(stud_grades_set)\n",
        "\n"
      ],
      "id": "Bh4tc1zCjNTC"
    },
    {
      "cell_type": "markdown",
      "metadata": {
        "id": "FSgM3DD5jNTD"
      },
      "source": [
        "!!Did you notice? set doesn't add an element if it's already present in it, unlike lists."
      ],
      "id": "FSgM3DD5jNTD"
    },
    {
      "cell_type": "markdown",
      "metadata": {
        "id": "tqz1GBM5jNTD"
      },
      "source": [
        "Remove ‘F’ from stud_grades_set"
      ],
      "id": "tqz1GBM5jNTD"
    },
    {
      "cell_type": "code",
      "execution_count": null,
      "metadata": {
        "id": "zOLBDdk0jNTD",
        "colab": {
          "base_uri": "https://localhost:8080/"
        },
        "outputId": "f8f64e0b-7148-4c37-93b7-5bbada6f47c1"
      },
      "outputs": [
        {
          "output_type": "stream",
          "name": "stdout",
          "text": [
            "{'C', 'A', 'B', 'G'}\n"
          ]
        }
      ],
      "source": [
        "stud_grades_set.remove('F')\n",
        "print(stud_grades_set)\n",
        "\n"
      ],
      "id": "zOLBDdk0jNTD"
    },
    {
      "cell_type": "markdown",
      "metadata": {
        "id": "wxMXywoRjNTD"
      },
      "source": [
        "Print the elements and the length of stud_grades_set"
      ],
      "id": "wxMXywoRjNTD"
    },
    {
      "cell_type": "code",
      "execution_count": null,
      "metadata": {
        "id": "lS582g27jNTD",
        "outputId": "17265f42-420a-48c4-d4fe-45e85b3832e1",
        "colab": {
          "base_uri": "https://localhost:8080/"
        }
      },
      "outputs": [
        {
          "output_type": "stream",
          "name": "stdout",
          "text": [
            "{'C', 'A', 'B', 'G'}\n",
            "4\n"
          ]
        }
      ],
      "source": [
        "print(stud_grades_set)\n",
        "print(len(stud_grades_set))\n",
        "\n"
      ],
      "id": "lS582g27jNTD"
    },
    {
      "cell_type": "markdown",
      "metadata": {
        "id": "FctCYkNBjNTD"
      },
      "source": [
        "### Create colors = [‘red’,’blue’,’orange’], and fruits = [‘orange’,’grapes’,’apples’]"
      ],
      "id": "FctCYkNBjNTD"
    },
    {
      "cell_type": "code",
      "execution_count": null,
      "metadata": {
        "id": "5IJKpeYVWxPL"
      },
      "outputs": [],
      "source": [
        "colors = ['red','blue','orange']\n",
        "fruits = ['orange','grapes','apples']"
      ],
      "id": "5IJKpeYVWxPL"
    },
    {
      "cell_type": "markdown",
      "metadata": {
        "id": "kfIRtvphjNTE"
      },
      "source": [
        "Print color and fruits"
      ],
      "id": "kfIRtvphjNTE"
    },
    {
      "cell_type": "code",
      "execution_count": null,
      "metadata": {
        "id": "q-gavK0-jNTE",
        "outputId": "47dd3aad-9cf5-499d-b2bf-544fd41a7932",
        "colab": {
          "base_uri": "https://localhost:8080/"
        }
      },
      "outputs": [
        {
          "output_type": "stream",
          "name": "stdout",
          "text": [
            "['red', 'blue', 'orange']\n",
            "['orange', 'grapes', 'apples']\n"
          ]
        }
      ],
      "source": [
        "print(colors)\n",
        "print(fruits)\n"
      ],
      "id": "q-gavK0-jNTE"
    },
    {
      "cell_type": "markdown",
      "metadata": {
        "id": "uMOTrWwSjNTE"
      },
      "source": [
        "Create colors_set, and fruits_set. (using set() ) and print them"
      ],
      "id": "uMOTrWwSjNTE"
    },
    {
      "cell_type": "code",
      "execution_count": null,
      "metadata": {
        "colab": {
          "base_uri": "https://localhost:8080/"
        },
        "id": "e1r3hvTSWxPN",
        "outputId": "00114474-e307-478c-ed75-09d9080fcacc"
      },
      "outputs": [
        {
          "output_type": "stream",
          "name": "stdout",
          "text": [
            "{'red', 'orange', 'blue'}\n",
            "{'apples', 'orange', 'grapes'}\n"
          ]
        }
      ],
      "source": [
        "colors_set = set(colors)\n",
        "fruits_set = set(fruits)\n",
        "print(colors_set)\n",
        "print(fruits_set)"
      ],
      "id": "e1r3hvTSWxPN"
    },
    {
      "cell_type": "markdown",
      "metadata": {
        "id": "tW9fj0R1jNTE"
      },
      "source": [
        "Find the union of both the sets."
      ],
      "id": "tW9fj0R1jNTE"
    },
    {
      "cell_type": "code",
      "execution_count": null,
      "metadata": {
        "id": "oyskI_CTjNTE",
        "outputId": "2ca82979-0f0c-4c00-da2c-3fef15f245e8",
        "colab": {
          "base_uri": "https://localhost:8080/"
        }
      },
      "outputs": [
        {
          "output_type": "execute_result",
          "data": {
            "text/plain": [
              "{'apples', 'blue', 'grapes', 'orange', 'red'}"
            ]
          },
          "metadata": {},
          "execution_count": 44
        }
      ],
      "source": [
        "colors_set.union(fruits_set)\n",
        "\n"
      ],
      "id": "oyskI_CTjNTE"
    },
    {
      "cell_type": "markdown",
      "metadata": {
        "id": "3yXYgYBLjNTF"
      },
      "source": [
        "Find the intersection of both the sets"
      ],
      "id": "3yXYgYBLjNTF"
    },
    {
      "cell_type": "code",
      "execution_count": null,
      "metadata": {
        "id": "3AzYqu5sjNTF",
        "outputId": "a605e2e9-f465-4ad1-eccf-393d8dfc000a",
        "colab": {
          "base_uri": "https://localhost:8080/"
        }
      },
      "outputs": [
        {
          "output_type": "execute_result",
          "data": {
            "text/plain": [
              "{'orange'}"
            ]
          },
          "metadata": {},
          "execution_count": 45
        }
      ],
      "source": [
        "\n",
        "colors_set.intersection(fruits_set)\n"
      ],
      "id": "3AzYqu5sjNTF"
    },
    {
      "cell_type": "markdown",
      "metadata": {
        "id": "PuhlSjH_jNTF"
      },
      "source": [
        "Find the elements which are Fruits but not colors (using set.difference() )"
      ],
      "id": "PuhlSjH_jNTF"
    },
    {
      "cell_type": "code",
      "execution_count": null,
      "metadata": {
        "id": "gBaxHXrfjNTF",
        "outputId": "cd7fe713-50cb-4a62-cf99-905cd8550332",
        "colab": {
          "base_uri": "https://localhost:8080/"
        }
      },
      "outputs": [
        {
          "output_type": "execute_result",
          "data": {
            "text/plain": [
              "{'apples', 'grapes'}"
            ]
          },
          "metadata": {},
          "execution_count": 46
        }
      ],
      "source": [
        "\n",
        "fruits_set.difference(colors_set)\n"
      ],
      "id": "gBaxHXrfjNTF"
    },
    {
      "cell_type": "markdown",
      "metadata": {
        "id": "hLZeBta3jNTF"
      },
      "source": [
        "## TUPLES"
      ],
      "id": "hLZeBta3jNTF"
    },
    {
      "cell_type": "markdown",
      "metadata": {
        "id": "Nerhdg66jNTF"
      },
      "source": [
        "### Create temp = [17, ’Virat’, 50.0]"
      ],
      "id": "Nerhdg66jNTF"
    },
    {
      "cell_type": "code",
      "execution_count": null,
      "metadata": {
        "id": "aDyDCwBaWxPQ"
      },
      "outputs": [],
      "source": [
        "temp = [17,'Virat',50.0]"
      ],
      "id": "aDyDCwBaWxPQ"
    },
    {
      "cell_type": "markdown",
      "metadata": {
        "id": "C0IuMJFijNTG"
      },
      "source": [
        "Iterate through temp and print all the items in temp"
      ],
      "id": "C0IuMJFijNTG"
    },
    {
      "cell_type": "code",
      "execution_count": null,
      "metadata": {
        "id": "CSKY_cgHjNTG",
        "colab": {
          "base_uri": "https://localhost:8080/"
        },
        "outputId": "619c0a39-d8e7-4d9f-c0ff-f6c56befa9c7"
      },
      "outputs": [
        {
          "output_type": "stream",
          "name": "stdout",
          "text": [
            "17\n",
            "Virat\n",
            "50.0\n"
          ]
        }
      ],
      "source": [
        "for i in temp:\n",
        "  print(i)\n"
      ],
      "id": "CSKY_cgHjNTG"
    },
    {
      "cell_type": "markdown",
      "metadata": {
        "id": "gI0kBGQ1jNTG"
      },
      "source": [
        "replace first element with 11 in temp"
      ],
      "id": "gI0kBGQ1jNTG"
    },
    {
      "cell_type": "code",
      "execution_count": null,
      "metadata": {
        "id": "p6JCtyOBjNTG"
      },
      "outputs": [],
      "source": [
        "temp[0] = 11"
      ],
      "id": "p6JCtyOBjNTG"
    },
    {
      "cell_type": "markdown",
      "metadata": {
        "id": "JV3b34AdjNTG"
      },
      "source": [
        "Set temp1 = tuple(temp)"
      ],
      "id": "JV3b34AdjNTG"
    },
    {
      "cell_type": "code",
      "execution_count": null,
      "metadata": {
        "id": "OzI70bu3WxPV"
      },
      "outputs": [],
      "source": [
        "temp1 = tuple(temp)"
      ],
      "id": "OzI70bu3WxPV"
    },
    {
      "cell_type": "markdown",
      "metadata": {
        "id": "Z9LJWgBkjNTG"
      },
      "source": [
        "Iterate through temp1 and print all the items in temp1."
      ],
      "id": "Z9LJWgBkjNTG"
    },
    {
      "cell_type": "code",
      "execution_count": null,
      "metadata": {
        "id": "t0v-FZsNjNTH",
        "colab": {
          "base_uri": "https://localhost:8080/"
        },
        "outputId": "049a4d46-936c-4e19-d637-701b17101c13"
      },
      "outputs": [
        {
          "output_type": "stream",
          "name": "stdout",
          "text": [
            "11\n",
            "Virat\n",
            "50.0\n"
          ]
        }
      ],
      "source": [
        "for i in temp1:\n",
        "  print(i)\n",
        "\n"
      ],
      "id": "t0v-FZsNjNTH"
    },
    {
      "cell_type": "markdown",
      "metadata": {
        "id": "A4FXMQDfjNTH"
      },
      "source": [
        "replace first element with 17 in temp1"
      ],
      "id": "A4FXMQDfjNTH"
    },
    {
      "cell_type": "code",
      "execution_count": null,
      "metadata": {
        "id": "eioDSdW8jNTH",
        "colab": {
          "base_uri": "https://localhost:8080/"
        },
        "outputId": "b8f442c9-af15-4973-d351-8504228dff59"
      },
      "outputs": [
        {
          "output_type": "execute_result",
          "data": {
            "text/plain": [
              "(17, 'Virat', 50.0)"
            ]
          },
          "metadata": {},
          "execution_count": 15
        }
      ],
      "source": [
        "temp1 = list(temp1)\n",
        "temp1[0] = 17\n",
        "temp1 = tuple(temp1)\n",
        "temp1"
      ],
      "id": "eioDSdW8jNTH"
    },
    {
      "cell_type": "markdown",
      "metadata": {
        "id": "ExB_cM1ZjNTH"
      },
      "source": [
        "### Create city = (\"Bangalore\", 28.9949521, 72)"
      ],
      "id": "ExB_cM1ZjNTH"
    },
    {
      "cell_type": "code",
      "execution_count": null,
      "metadata": {
        "id": "fWz52DjjjNTH"
      },
      "outputs": [],
      "source": [
        "city = (\"Bangalore\",28.9949521, 72)"
      ],
      "id": "fWz52DjjjNTH"
    },
    {
      "cell_type": "markdown",
      "metadata": {
        "id": "v4ipyqXsjNTH"
      },
      "source": [
        "Print first element of city"
      ],
      "id": "v4ipyqXsjNTH"
    },
    {
      "cell_type": "code",
      "execution_count": null,
      "metadata": {
        "id": "KJHMuFk1jNTI",
        "colab": {
          "base_uri": "https://localhost:8080/",
          "height": 35
        },
        "outputId": "5cebe556-cc0d-446e-a064-c1f9fa290920"
      },
      "outputs": [
        {
          "output_type": "execute_result",
          "data": {
            "text/plain": [
              "'Bangalore'"
            ],
            "application/vnd.google.colaboratory.intrinsic+json": {
              "type": "string"
            }
          },
          "metadata": {},
          "execution_count": 20
        }
      ],
      "source": [
        "city[(0)]"
      ],
      "id": "KJHMuFk1jNTI"
    },
    {
      "cell_type": "markdown",
      "metadata": {
        "id": "N5FoHg4ujNTI"
      },
      "source": [
        "Create city2 = (‘Chennai’, 30.01, 74)"
      ],
      "id": "N5FoHg4ujNTI"
    },
    {
      "cell_type": "code",
      "execution_count": null,
      "metadata": {
        "id": "fYuGqbDEjNTI"
      },
      "outputs": [],
      "source": [
        "city2 = ('Chennai', 30.01, 74)"
      ],
      "id": "fYuGqbDEjNTI"
    },
    {
      "cell_type": "markdown",
      "metadata": {
        "id": "0gz-HACUjNTI"
      },
      "source": [
        "Create cities which consist of city and city2"
      ],
      "id": "0gz-HACUjNTI"
    },
    {
      "cell_type": "code",
      "execution_count": null,
      "metadata": {
        "id": "5dTN1LQPjNTI"
      },
      "outputs": [],
      "source": [
        "cities = (city,city2)"
      ],
      "id": "5dTN1LQPjNTI"
    },
    {
      "cell_type": "markdown",
      "metadata": {
        "id": "He-teRi2jNTI"
      },
      "source": [
        "Print cities"
      ],
      "id": "He-teRi2jNTI"
    },
    {
      "cell_type": "code",
      "execution_count": null,
      "metadata": {
        "id": "ISySNfxGjNTI",
        "colab": {
          "base_uri": "https://localhost:8080/"
        },
        "outputId": "bdf0eda9-9595-411f-db44-229af90c979b"
      },
      "outputs": [
        {
          "output_type": "stream",
          "name": "stdout",
          "text": [
            "(('Bangalore', 28.9949521, 72), ('Chennai', 30.01, 74))\n"
          ]
        }
      ],
      "source": [
        "print(cities)"
      ],
      "id": "ISySNfxGjNTI"
    },
    {
      "cell_type": "markdown",
      "metadata": {
        "id": "brFx6-rtjNTJ"
      },
      "source": [
        "Print type of first element in cities"
      ],
      "id": "brFx6-rtjNTJ"
    },
    {
      "cell_type": "code",
      "execution_count": null,
      "metadata": {
        "id": "CmIifGybjNTJ",
        "colab": {
          "base_uri": "https://localhost:8080/"
        },
        "outputId": "18073fed-74f9-4288-debe-f42bd9fe58c4"
      },
      "outputs": [
        {
          "output_type": "execute_result",
          "data": {
            "text/plain": [
              "tuple"
            ]
          },
          "metadata": {},
          "execution_count": 24
        }
      ],
      "source": [
        "type(cities[0])"
      ],
      "id": "CmIifGybjNTJ"
    },
    {
      "cell_type": "markdown",
      "metadata": {
        "id": "jtk8J_yHjNTJ"
      },
      "source": [
        "print the type of cities\n"
      ],
      "id": "jtk8J_yHjNTJ"
    },
    {
      "cell_type": "code",
      "execution_count": null,
      "metadata": {
        "id": "y9rdG29XjNTJ",
        "colab": {
          "base_uri": "https://localhost:8080/"
        },
        "outputId": "78c6554d-7a63-4674-e2af-9f3e9dc067fd"
      },
      "outputs": [
        {
          "output_type": "stream",
          "name": "stdout",
          "text": [
            "<class 'tuple'>\n"
          ]
        }
      ],
      "source": [
        "print(type(cities))"
      ],
      "id": "y9rdG29XjNTJ"
    },
    {
      "cell_type": "markdown",
      "metadata": {
        "id": "uXHSadWqjNTJ"
      },
      "source": [
        "Hey that implies you made a nested tuples!!"
      ],
      "id": "uXHSadWqjNTJ"
    },
    {
      "cell_type": "markdown",
      "metadata": {
        "id": "zViY-S_djNTJ"
      },
      "source": [
        "## DICTIONARY"
      ],
      "id": "zViY-S_djNTJ"
    },
    {
      "cell_type": "markdown",
      "metadata": {
        "id": "4NjUxRaZjNTK"
      },
      "source": [
        "### Create a dictionary d = {\"actor\":\"amir\",\"animal\":\"cat\",\"earth\":2,\"list\":[23,32,12]}"
      ],
      "id": "4NjUxRaZjNTK"
    },
    {
      "cell_type": "code",
      "execution_count": null,
      "metadata": {
        "id": "UCtEFPI4jNTK"
      },
      "outputs": [],
      "source": [
        "d = {\"actor\":\"amir\",\"animal\":\"cat\",\"earth\":2,\"list\":[23,32,12]}"
      ],
      "id": "UCtEFPI4jNTK"
    },
    {
      "cell_type": "markdown",
      "metadata": {
        "id": "OamenDk8jNTK"
      },
      "source": [
        "Print the value of d[0]"
      ],
      "id": "OamenDk8jNTK"
    },
    {
      "cell_type": "code",
      "execution_count": null,
      "metadata": {
        "id": "gion3awcjNTK",
        "colab": {
          "base_uri": "https://localhost:8080/"
        },
        "outputId": "40591b8f-09f3-4802-991b-248a167ef48d"
      },
      "outputs": [
        {
          "output_type": "stream",
          "name": "stdout",
          "text": [
            "23\n"
          ]
        }
      ],
      "source": [
        "print(d[\"list\"][0])"
      ],
      "id": "gion3awcjNTK"
    },
    {
      "cell_type": "markdown",
      "metadata": {
        "id": "62VXYnw1jNTK"
      },
      "source": [
        "Store the value of d[‘actor’] to a new variable actor."
      ],
      "id": "62VXYnw1jNTK"
    },
    {
      "cell_type": "code",
      "execution_count": null,
      "metadata": {
        "id": "kkBfNz81jNTK"
      },
      "outputs": [],
      "source": [
        "actor = d[\"actor\"]\n"
      ],
      "id": "kkBfNz81jNTK"
    },
    {
      "cell_type": "markdown",
      "metadata": {
        "id": "uFfuF569jNTL"
      },
      "source": [
        "Print the type of actor"
      ],
      "id": "uFfuF569jNTL"
    },
    {
      "cell_type": "code",
      "execution_count": null,
      "metadata": {
        "id": "bKbFXBxyjNTL",
        "colab": {
          "base_uri": "https://localhost:8080/"
        },
        "outputId": "27d7ed26-9db4-4261-d836-22d05e5ac248"
      },
      "outputs": [
        {
          "output_type": "execute_result",
          "data": {
            "text/plain": [
              "str"
            ]
          },
          "metadata": {},
          "execution_count": 42
        }
      ],
      "source": [
        "type(actor)"
      ],
      "id": "bKbFXBxyjNTL"
    },
    {
      "cell_type": "markdown",
      "metadata": {
        "id": "y549qN04jNTL"
      },
      "source": [
        "Store the value of d[‘list’] in new variable List."
      ],
      "id": "y549qN04jNTL"
    },
    {
      "cell_type": "code",
      "execution_count": null,
      "metadata": {
        "id": "I7GyOK8DjNTL"
      },
      "outputs": [],
      "source": [
        "List = d[\"list\"]"
      ],
      "id": "I7GyOK8DjNTL"
    },
    {
      "cell_type": "markdown",
      "metadata": {
        "id": "Ul1YMiuNjNTL"
      },
      "source": [
        "Print the type of List."
      ],
      "id": "Ul1YMiuNjNTL"
    },
    {
      "cell_type": "code",
      "execution_count": null,
      "metadata": {
        "id": "V0VdG9y_jNTL",
        "colab": {
          "base_uri": "https://localhost:8080/"
        },
        "outputId": "b8a05046-99c2-41ae-d2a3-9ed3779e54a3"
      },
      "outputs": [
        {
          "output_type": "execute_result",
          "data": {
            "text/plain": [
              "list"
            ]
          },
          "metadata": {},
          "execution_count": 44
        }
      ],
      "source": [
        "type(List)"
      ],
      "id": "V0VdG9y_jNTL"
    },
    {
      "cell_type": "markdown",
      "metadata": {
        "id": "A0CEMABhjNTL"
      },
      "source": [
        "Create d1 = { ‘singer’ : ‘Kr$na’ , ‘album’: ‘Still here’, ‘genre’ : ‘hip-hop’}"
      ],
      "id": "A0CEMABhjNTL"
    },
    {
      "cell_type": "code",
      "execution_count": null,
      "metadata": {
        "id": "FCGCw5FEjNTL"
      },
      "outputs": [],
      "source": [
        "d1 = { 'singer' : 'Kr$na' , 'album': 'Still here', 'genre' : 'hip-hop'}"
      ],
      "id": "FCGCw5FEjNTL"
    },
    {
      "cell_type": "markdown",
      "metadata": {
        "id": "ybGIILrLjNTM"
      },
      "source": [
        "Merge d1 into d."
      ],
      "id": "ybGIILrLjNTM"
    },
    {
      "cell_type": "code",
      "execution_count": null,
      "metadata": {
        "id": "UmDbbQJPjNTM"
      },
      "outputs": [],
      "source": [
        "d.update(d1)"
      ],
      "id": "UmDbbQJPjNTM"
    },
    {
      "cell_type": "markdown",
      "metadata": {
        "id": "jhAPX45ZjNTM"
      },
      "source": [
        "print d"
      ],
      "id": "jhAPX45ZjNTM"
    },
    {
      "cell_type": "code",
      "execution_count": null,
      "metadata": {
        "id": "785S26ryjNTM",
        "colab": {
          "base_uri": "https://localhost:8080/"
        },
        "outputId": "eb21fa16-e677-4b8e-9c33-7cedaec5778a"
      },
      "outputs": [
        {
          "output_type": "stream",
          "name": "stdout",
          "text": [
            "{'actor': 'amir', 'animal': 'cat', 'earth': 2, 'list': [23, 32, 12], 'singer': 'Kr$na', 'album': 'Still here', 'genre': 'hip-hop'}\n"
          ]
        }
      ],
      "source": [
        "print (d)"
      ],
      "id": "785S26ryjNTM"
    },
    {
      "cell_type": "markdown",
      "metadata": {
        "id": "9E852mY2jNTM"
      },
      "source": [
        "Print all the keys in d"
      ],
      "id": "9E852mY2jNTM"
    },
    {
      "cell_type": "code",
      "execution_count": null,
      "metadata": {
        "id": "7K843OrLjNTM",
        "colab": {
          "base_uri": "https://localhost:8080/"
        },
        "outputId": "650c1504-6b09-4702-fdfc-b8bc8a22195b"
      },
      "outputs": [
        {
          "output_type": "execute_result",
          "data": {
            "text/plain": [
              "dict_keys(['actor', 'animal', 'earth', 'list', 'singer', 'album', 'genre'])"
            ]
          },
          "metadata": {},
          "execution_count": 51
        }
      ],
      "source": [
        "d.keys()"
      ],
      "id": "7K843OrLjNTM"
    },
    {
      "cell_type": "markdown",
      "metadata": {
        "id": "fiuzxbGkjNTN"
      },
      "source": [
        "Print all the values in d"
      ],
      "id": "fiuzxbGkjNTN"
    },
    {
      "cell_type": "code",
      "execution_count": null,
      "metadata": {
        "id": "Pyhh6r0pjNTN",
        "colab": {
          "base_uri": "https://localhost:8080/"
        },
        "outputId": "7a727fae-7c44-4a5b-bb07-f51c3c97a7f1"
      },
      "outputs": [
        {
          "output_type": "execute_result",
          "data": {
            "text/plain": [
              "dict_values(['amir', 'cat', 2, [23, 32, 12], 'Kr$na', 'Still here', 'hip-hop'])"
            ]
          },
          "metadata": {},
          "execution_count": 52
        }
      ],
      "source": [
        "d.values()"
      ],
      "id": "Pyhh6r0pjNTN"
    },
    {
      "cell_type": "markdown",
      "metadata": {
        "id": "XSoe8GWmjNTN"
      },
      "source": [
        "Iterate over d, and print each key, value pair as this - (actor ----> amir)\n",
        "\n",
        "---\n",
        "\n"
      ],
      "id": "XSoe8GWmjNTN"
    },
    {
      "cell_type": "code",
      "execution_count": null,
      "metadata": {
        "id": "O0iW9kiqjNTO",
        "colab": {
          "base_uri": "https://localhost:8080/"
        },
        "outputId": "24ee8969-c24a-4230-e666-3d5533f30522"
      },
      "outputs": [
        {
          "output_type": "stream",
          "name": "stdout",
          "text": [
            "actor ---> amir\n",
            "animal ---> cat\n",
            "earth ---> 2\n",
            "list ---> [23, 32, 12]\n",
            "singer ---> Kr$na\n",
            "album ---> Still here\n",
            "genre ---> hip-hop\n"
          ]
        }
      ],
      "source": [
        "for keys, values in d.items():\n",
        "  print(keys,'--->',values)"
      ],
      "id": "O0iW9kiqjNTO"
    },
    {
      "cell_type": "markdown",
      "metadata": {
        "id": "Hhzm-EIsjNTO"
      },
      "source": [
        "[link text](https://)count the number of occurences of charachters in string named \"sent\" using dictionary and print the same.\n"
      ],
      "id": "Hhzm-EIsjNTO"
    },
    {
      "cell_type": "code",
      "execution_count": null,
      "metadata": {
        "id": "IvRlvUAljNTP",
        "colab": {
          "base_uri": "https://localhost:8080/"
        },
        "outputId": "77cba9eb-6514-4855-ce76-d64eb6164edc"
      },
      "outputs": [
        {
          "output_type": "stream",
          "name": "stdout",
          "text": [
            "{'C': 2, 'o': 6, 'r': 4, 'n': 3, 'a': 2, 'v': 1, 'i': 1, 'u': 3, 's': 4, ' ': 5, 'e': 2, 'd': 4, 'L': 1, 'c': 1, 'k': 1, 'w': 1, 'A': 1, 'T': 1, 'H': 1, 'W': 1, 'l': 1, '.': 1}\n"
          ]
        }
      ],
      "source": [
        "\n",
        "sent = 'Coronaviruss Caused Lockdowns Around THe World.'\n",
        "\n",
        "char_count = {}\n",
        "\n",
        "for char in sent:\n",
        "    if char in char_count:\n",
        "        char_count[char] += 1\n",
        "    else:\n",
        "        char_count[char] = 1\n",
        "\n",
        "print(char_count)"
      ],
      "id": "IvRlvUAljNTP"
    },
    {
      "cell_type": "code",
      "execution_count": null,
      "metadata": {
        "id": "ebNwyxUujNTP"
      },
      "outputs": [],
      "source": [
        "#end of assignment"
      ],
      "id": "ebNwyxUujNTP"
    }
  ],
  "metadata": {
    "colab": {
      "provenance": [],
      "include_colab_link": true
    },
    "kernelspec": {
      "display_name": "Python 3",
      "language": "python",
      "name": "python3"
    },
    "language_info": {
      "codemirror_mode": {
        "name": "ipython",
        "version": 3
      },
      "file_extension": ".py",
      "mimetype": "text/x-python",
      "name": "python",
      "nbconvert_exporter": "python",
      "pygments_lexer": "ipython3",
      "version": "3.7.4"
    }
  },
  "nbformat": 4,
  "nbformat_minor": 5
}